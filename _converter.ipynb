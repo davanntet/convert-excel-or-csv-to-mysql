{
 "cells": [
  {
   "cell_type": "code",
   "execution_count": 25,
   "metadata": {},
   "outputs": [],
   "source": [
    "import os\n",
    "import mysql.connector as conn\n",
    "# establish connection to MySQL\n",
    "mydb = conn.connect(\n",
    "    user = \"root\",\n",
    "    password = \"\",\n",
    "    host = \"localhost\",\n",
    "    # database = \"ecommerce_db\",\n",
    "    port = 3306\n",
    ")\n",
    "\n",
    "mycursor = mydb.cursor()\n",
    "# cursor.execute(\"SHOW DATABASES\")\n",
    "mycursor.execute(\"USE ecommerce_db\")"
   ]
  },
  {
   "cell_type": "code",
   "execution_count": 26,
   "metadata": {},
   "outputs": [],
   "source": [
    "for file in os.listdir():\n",
    "        if file.endswith(\".csv\"):\n",
    "                # get table name from file name\n",
    "                table_name = os.path.splitext(file)[0]\n",
    "                table_name = table_name.replace(\" \", \"_\")\n",
    "                # create table with columns from CSV header\n",
    "                with open(file, 'r') as f:\n",
    "                        header = f.readline().strip()\n",
    "                        columns = header.split(',')\n",
    "                        columns = [col.replace(\"-\", \"_\") for col in columns]\n",
    "                        column_definitions = ', '.join([f\"{col} VARCHAR(255)\" for col in columns])\n",
    "                        create_table_query = f\"CREATE TABLE IF NOT EXISTS {table_name} ({column_definitions})\"\n",
    "                        mycursor.execute(create_table_query)\n",
    "                        # print(create_table_query)\n",
    "                # load data from CSV into table\n",
    "                path = os.path.abspath(file)\n",
    "                path = path.replace(\"\\\\\", \"/\")\n",
    "                load_data_query = f\"LOAD DATA INFILE '{path}' INTO TABLE {table_name} FIELDS TERMINATED BY ',' ENCLOSED BY '\\\"' LINES TERMINATED BY '\\\\n' IGNORE 1 ROWS\"\n",
    "                mycursor.execute(load_data_query)\n",
    "                # print(load_data_query)\n",
    "\n",
    "# commit changes and close connection\n",
    "mydb.commit()\n",
    "mydb.close()\n"
   ]
  },
  {
   "cell_type": "code",
   "execution_count": 45,
   "metadata": {},
   "outputs": [],
   "source": [
    "mydb.close()\n"
   ]
  }
 ],
 "metadata": {
  "kernelspec": {
   "display_name": "base",
   "language": "python",
   "name": "python3"
  },
  "language_info": {
   "codemirror_mode": {
    "name": "ipython",
    "version": 3
   },
   "file_extension": ".py",
   "mimetype": "text/x-python",
   "name": "python",
   "nbconvert_exporter": "python",
   "pygments_lexer": "ipython3",
   "version": "3.11.4"
  }
 },
 "nbformat": 4,
 "nbformat_minor": 2
}
